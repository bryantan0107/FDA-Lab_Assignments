{
 "cells": [
  {
   "cell_type": "code",
   "execution_count": 48,
   "id": "67c70347",
   "metadata": {},
   "outputs": [
    {
     "ename": "KeyError",
     "evalue": "'train_predict'",
     "output_type": "error",
     "traceback": [
      "\u001b[0;31m---------------------------------------------------------------------------\u001b[0m",
      "\u001b[0;31mKeyError\u001b[0m                                  Traceback (most recent call last)",
      "Input \u001b[0;32mIn [48]\u001b[0m, in \u001b[0;36m<cell line: 9>\u001b[0;34m()\u001b[0m\n\u001b[1;32m      6\u001b[0m \u001b[38;5;66;03m# import train_predict from your file (change file name/path; omit suffix, i.e. .py)\u001b[39;00m\n\u001b[1;32m      7\u001b[0m m \u001b[38;5;241m=\u001b[39m importlib\u001b[38;5;241m.\u001b[39mimport_module(\u001b[38;5;124m'\u001b[39m\u001b[38;5;124mtesting1\u001b[39m\u001b[38;5;124m'\u001b[39m)\n\u001b[0;32m----> 9\u001b[0m train_predict \u001b[38;5;241m=\u001b[39m \u001b[43mm\u001b[49m\u001b[38;5;241;43m.\u001b[39;49m\u001b[38;5;18;43m__dict__\u001b[39;49m\u001b[43m[\u001b[49m\u001b[38;5;124;43m'\u001b[39;49m\u001b[38;5;124;43mtrain_predict\u001b[39;49m\u001b[38;5;124;43m'\u001b[39;49m\u001b[43m]\u001b[49m\n\u001b[1;32m     11\u001b[0m \u001b[38;5;66;03m# load data\u001b[39;00m\n\u001b[1;32m     12\u001b[0m X \u001b[38;5;241m=\u001b[39m pd\u001b[38;5;241m.\u001b[39mread_csv(\u001b[38;5;124m\"\u001b[39m\u001b[38;5;124mX_train.csv\u001b[39m\u001b[38;5;124m\"\u001b[39m)\n",
      "\u001b[0;31mKeyError\u001b[0m: 'train_predict'"
     ]
    }
   ],
   "source": [
    "import pandas as pd\n",
    "import importlib.util\n",
    "from sklearn.metrics import accuracy_score\n",
    "from sklearn.model_selection import train_test_split\n",
    "\n",
    "# import train_predict from your file (change file name/path; omit suffix, i.e. .py)\n",
    "m = importlib.import_module('testing1')\n",
    "\n",
    "train_predict = m.__dict__['train_predict']\n",
    "\n",
    "# load data\n",
    "X = pd.read_csv(\"X_train.csv\")\n",
    "y = pd.read_csv(\"y_train.csv\")\n",
    "\n",
    "# split data (note: we use a different test set for grading purposes)\n",
    "X_train, X_test, y_train, y_test = train_test_split(X, y, test_size=0.2, random_state=44)\n",
    "\n",
    "# train and predict with function from student\n",
    "y_pred = train_predict(X_train, y_train, X_test)\n",
    "acc = accuracy_score(y_test, y_pred)\n",
    "\n",
    "print(\"Accuracy: {}\".format(acc))"
   ]
  },
  {
   "cell_type": "code",
   "execution_count": 58,
   "id": "763e4a75",
   "metadata": {},
   "outputs": [],
   "source": [
    "import pandas as pd\n",
    "import numpy as np\n",
    "import matplotlib.pyplot as plt\n",
    "from sklearn.model_selection import train_test_split\n",
    "from sklearn.linear_model import LinearRegression, Lasso\n",
    "from sklearn.metrics import mean_squared_error"
   ]
  },
  {
   "cell_type": "code",
   "execution_count": 59,
   "id": "7221aa17",
   "metadata": {},
   "outputs": [],
   "source": [
    "# 读取数据集\n",
    "data = pd.read_csv(\"lasso_data.csv\")"
   ]
  },
  {
   "cell_type": "code",
   "execution_count": 60,
   "id": "2d342670",
   "metadata": {},
   "outputs": [],
   "source": [
    "X_train, X_test, y_train, y_test = train_test_split(data.drop('y', axis=1), data['y'], test_size=0.2, random_state=42)"
   ]
  },
  {
   "cell_type": "code",
   "execution_count": 61,
   "id": "4364cb71",
   "metadata": {},
   "outputs": [
    {
     "data": {
      "text/plain": [
       "LinearRegression()"
      ]
     },
     "execution_count": 61,
     "metadata": {},
     "output_type": "execute_result"
    }
   ],
   "source": [
    "lr = LinearRegression()\n",
    "lr.fit(X_train, y_train)"
   ]
  },
  {
   "cell_type": "code",
   "execution_count": 62,
   "id": "e6cee29e",
   "metadata": {},
   "outputs": [
    {
     "name": "stdout",
     "output_type": "stream",
     "text": [
      "Linear Regression Mean Squared Error: 1.0049948070299084\n"
     ]
    }
   ],
   "source": [
    "y_pred = lr.predict(X_test)\n",
    "mse = mean_squared_error(y_test, y_pred)\n",
    "print(\"Linear Regression Mean Squared Error:\", mse)"
   ]
  },
  {
   "cell_type": "code",
   "execution_count": 55,
   "id": "de340f2b",
   "metadata": {},
   "outputs": [
    {
     "data": {
      "text/plain": [
       "Lasso(alpha=0.1)"
      ]
     },
     "execution_count": 55,
     "metadata": {},
     "output_type": "execute_result"
    }
   ],
   "source": [
    "lasso = Lasso(alpha=0.1)\n",
    "lasso.fit(X_train, y_train)"
   ]
  },
  {
   "cell_type": "code",
   "execution_count": 56,
   "id": "93e743ce",
   "metadata": {},
   "outputs": [
    {
     "name": "stdout",
     "output_type": "stream",
     "text": [
      "Lasso Regression Mean Squared Error: 1.0211713123548256\n"
     ]
    }
   ],
   "source": [
    "y_pred_lasso = lasso.predict(X_test)\n",
    "mse_lasso = mean_squared_error(y_test, y_pred_lasso)\n",
    "print(\"Lasso Regression Mean Squared Error:\", mse_lasso)"
   ]
  },
  {
   "cell_type": "code",
   "execution_count": 57,
   "id": "951cb885",
   "metadata": {},
   "outputs": [
    {
     "name": "stdout",
     "output_type": "stream",
     "text": [
      "Linear Regression Coefficients: [ 3.00700480e+00  1.00230149e+00 -1.41773998e-04  1.00230149e+00\n",
      " -2.00176072e+00 -8.04155251e-04]\n",
      "Lasso Regression Coefficients: [ 2.90718160e+00  1.97957910e+00 -0.00000000e+00  6.82176723e-05\n",
      " -1.99779349e+00 -0.00000000e+00]\n"
     ]
    }
   ],
   "source": [
    "print(\"Linear Regression Coefficients:\", lr.coef_)\n",
    "print(\"Lasso Regression Coefficients:\", lasso.coef_)"
   ]
  },
  {
   "cell_type": "code",
   "execution_count": 63,
   "id": "e5464824",
   "metadata": {},
   "outputs": [],
   "source": [
    "# 在测试集上进行预测\n",
    "lasso = LassoCV(cv=5, random_state=42).fit(X_train, y_train)\n",
    "y_pred_lasso = lasso.predict(X_test)"
   ]
  },
  {
   "cell_type": "code",
   "execution_count": 64,
   "id": "0828e597",
   "metadata": {},
   "outputs": [
    {
     "name": "stdout",
     "output_type": "stream",
     "text": [
      "Mean Squared Error (Lasso):  1.009956660837883\n"
     ]
    }
   ],
   "source": [
    "# 评估模型性能\n",
    "mse_lasso = mean_squared_error(y_test, y_pred_lasso)\n",
    "print(\"Mean Squared Error (Lasso): \", mse_lasso)"
   ]
  },
  {
   "cell_type": "code",
   "execution_count": 65,
   "id": "7cc05b74",
   "metadata": {},
   "outputs": [
    {
     "name": "stdout",
     "output_type": "stream",
     "text": [
      "Mean Squared Error (Linear Regression):  1.0049948070299084\n",
      "Mean Squared Error (Lasso Regression):  1.009956660837883\n",
      "Linear Regression has a better performance.\n"
     ]
    }
   ],
   "source": [
    "print(\"Mean Squared Error (Linear Regression): \", mse)\n",
    "print(\"Mean Squared Error (Lasso Regression): \", mse_lasso)\n",
    "\n",
    "# 比较模型性能\n",
    "if mse < mse_lasso:\n",
    "    print(\"Linear Regression has a better performance.\")\n",
    "else:\n",
    "    print(\"Lasso Regression has a better performance.\")"
   ]
  },
  {
   "cell_type": "code",
   "execution_count": 66,
   "id": "fee2d140",
   "metadata": {},
   "outputs": [
    {
     "name": "stdout",
     "output_type": "stream",
     "text": [
      "Linear Regression Coefficients:  [ 3.01013707e+00  1.00222946e+00 -2.25319940e-04  1.00222946e+00\n",
      " -2.00117801e+00  1.48623551e-03]\n",
      "Lasso Regression Coefficients:  [ 2.95738021e+00  1.99211797e+00 -1.88897256e-06  7.21987802e-05\n",
      " -1.99978697e+00 -0.00000000e+00]\n"
     ]
    }
   ],
   "source": [
    "# 输出模型系数\n",
    "print(\"Linear Regression Coefficients: \", lin_reg.coef_)\n",
    "print(\"Lasso Regression Coefficients: \", lasso.coef_)"
   ]
  },
  {
   "cell_type": "code",
   "execution_count": 45,
   "id": "17c870a7",
   "metadata": {},
   "outputs": [
    {
     "ename": "AssertionError",
     "evalue": "",
     "output_type": "error",
     "traceback": [
      "\u001b[0;31m---------------------------------------------------------------------------\u001b[0m",
      "\u001b[0;31mAssertionError\u001b[0m                            Traceback (most recent call last)",
      "Input \u001b[0;32mIn [45]\u001b[0m, in \u001b[0;36m<cell line: 72>\u001b[0;34m()\u001b[0m\n\u001b[1;32m     75\u001b[0m y_train \u001b[38;5;241m=\u001b[39m pd\u001b[38;5;241m.\u001b[39mread_csv(\u001b[38;5;124m\"\u001b[39m\u001b[38;5;124my_train.csv\u001b[39m\u001b[38;5;124m\"\u001b[39m)\n\u001b[1;32m     77\u001b[0m \u001b[38;5;66;03m# execute train_predict function\u001b[39;00m\n\u001b[0;32m---> 78\u001b[0m y_pred \u001b[38;5;241m=\u001b[39m \u001b[43mtrain_predict\u001b[49m\u001b[43m(\u001b[49m\u001b[43mX_train\u001b[49m\u001b[43m,\u001b[49m\u001b[43m \u001b[49m\u001b[43my_train\u001b[49m\u001b[43m,\u001b[49m\u001b[43m \u001b[49m\u001b[43mX_test\u001b[49m\u001b[43m)\u001b[49m\n\u001b[1;32m     80\u001b[0m \u001b[38;5;66;03m# save predictions to file (change path if necessary)\u001b[39;00m\n\u001b[1;32m     81\u001b[0m np\u001b[38;5;241m.\u001b[39msavetxt(\u001b[38;5;124m\"\u001b[39m\u001b[38;5;124my_pred.csv\u001b[39m\u001b[38;5;124m\"\u001b[39m, y_pred, delimiter\u001b[38;5;241m=\u001b[39m\u001b[38;5;124m\"\u001b[39m\u001b[38;5;124m,\u001b[39m\u001b[38;5;124m\"\u001b[39m)\n",
      "Input \u001b[0;32mIn [45]\u001b[0m, in \u001b[0;36mtrain_predict\u001b[0;34m(X_train, y_train, X_test)\u001b[0m\n\u001b[1;32m     37\u001b[0m \u001b[38;5;28;01massert\u001b[39;00m X_train\u001b[38;5;241m.\u001b[39mshape \u001b[38;5;241m==\u001b[39m (\u001b[38;5;28mlen\u001b[39m(X_train), \u001b[38;5;241m6336\u001b[39m)\n\u001b[1;32m     38\u001b[0m \u001b[38;5;28;01massert\u001b[39;00m y_train\u001b[38;5;241m.\u001b[39mshape \u001b[38;5;241m==\u001b[39m (\u001b[38;5;28mlen\u001b[39m(y_train), \u001b[38;5;241m1\u001b[39m)\n\u001b[0;32m---> 39\u001b[0m \u001b[38;5;28;01massert\u001b[39;00m X_test\u001b[38;5;241m.\u001b[39mshape \u001b[38;5;241m==\u001b[39m (\u001b[38;5;28mlen\u001b[39m(X_test), \u001b[38;5;241m6336\u001b[39m)\n\u001b[1;32m     41\u001b[0m \u001b[38;5;66;03m# Preprocess data\u001b[39;00m\n\u001b[1;32m     42\u001b[0m X_train \u001b[38;5;241m=\u001b[39m preprocess(X_train)\n",
      "\u001b[0;31mAssertionError\u001b[0m: "
     ]
    }
   ],
   "source": [
    "# imports here\n",
    "import pandas as pd\n",
    "import numpy as np\n",
    "import tensorflow as tf\n",
    "from sklearn.model_selection import train_test_split\n",
    "from tensorflow.keras import layers, models\n",
    "\n",
    "\n",
    "# define additional functions here\n",
    "def preprocess(X):\n",
    "    # Normalize pixel values\n",
    "    X = X / 255.\n",
    "    # Reshape to 44x48x3 images\n",
    "    X = X.values.reshape(-1, 44, 48, 3)\n",
    "    return X\n",
    "\n",
    "\n",
    "def create_model(input_shape, num_classes):\n",
    "    model = models.Sequential([\n",
    "        layers.Conv2D(32, (3, 3), activation='relu', input_shape=input_shape),\n",
    "        layers.MaxPooling2D((2, 2)),\n",
    "        layers.Conv2D(64, (3, 3), activation='relu'),\n",
    "        layers.MaxPooling2D((2, 2)),\n",
    "        layers.Flatten(),\n",
    "        layers.Dense(64, activation='relu'),\n",
    "        layers.Dense(num_classes, activation='softmax')\n",
    "    ])\n",
    "    model.compile(optimizer='adam',\n",
    "                  loss='sparse_categorical_crossentropy',\n",
    "                  metrics=['accuracy'])\n",
    "    return model\n",
    "\n",
    "\n",
    "# define train_predict function\n",
    "def train_predict(X_train, y_train, X_test):\n",
    "    # check that the input has the correct shape\n",
    "    assert X_train.shape == (len(X_train), 6336)\n",
    "    assert y_train.shape == (len(y_train), 1)\n",
    "    assert X_test.shape == (len(X_test), 6336)\n",
    "\n",
    "    # Preprocess data\n",
    "    X_train = preprocess(X_train)\n",
    "    X_test = preprocess(X_test)\n",
    "\n",
    "    # Split data into training and validation sets\n",
    "    X_train, X_val, y_train, y_val = train_test_split(\n",
    "        X_train, y_train, test_size=0.2, random_state=42)\n",
    "\n",
    "    # Define model\n",
    "    input_shape = X_train[0].shape\n",
    "    num_classes = len(np.unique(y_train))\n",
    "    model = create_model(input_shape, num_classes)\n",
    "\n",
    "    # Train model\n",
    "    model.fit(X_train, y_train, epochs=10, batch_size=32,\n",
    "              validation_data=(X_val, y_val))\n",
    "\n",
    "    # Evaluate model on validation set\n",
    "    val_loss, val_acc = model.evaluate(X_val, y_val)\n",
    "    print(\"Validation accuracy:\", val_acc)\n",
    "\n",
    "    # Make predictions on test set\n",
    "    y_pred = model.predict(X_test)\n",
    "    y_pred = np.argmax(y_pred, axis=1)\n",
    "\n",
    "    # test that the returned prediction has correct shape\n",
    "    assert y_pred.shape == (len(X_test),) or y_pred.shape == (len(X_test), 1)\n",
    "\n",
    "    return y_pred\n",
    "\n",
    "\n",
    "if __name__ == \"__main__\":\n",
    "    # load data\n",
    "    X_train = pd.read_csv(\"X_train.csv\")\n",
    "    y_train = pd.read_csv(\"y_train.csv\")\n",
    "\n",
    "    # execute train_predict function\n",
    "    y_pred = train_predict(X_train, y_train, X_test)\n",
    "\n",
    "    # save predictions to file (change path if necessary)\n",
    "    np.savetxt(\"y_pred.csv\", y_pred, delimiter=\",\")\n"
   ]
  },
  {
   "cell_type": "code",
   "execution_count": 29,
   "id": "28e7164a",
   "metadata": {},
   "outputs": [
    {
     "name": "stdout",
     "output_type": "stream",
     "text": [
      "(6000, 6)\n"
     ]
    }
   ],
   "source": [
    "print(X_test.shape)"
   ]
  },
  {
   "cell_type": "code",
   "execution_count": 33,
   "id": "3ab9334a",
   "metadata": {},
   "outputs": [
    {
     "name": "stdout",
     "output_type": "stream",
     "text": [
      "Accuracy on validation set: 86.25%\n"
     ]
    },
    {
     "name": "stderr",
     "output_type": "stream",
     "text": [
      "/Users/bryantan/opt/anaconda3/lib/python3.9/site-packages/sklearn/linear_model/_logistic.py:814: ConvergenceWarning: lbfgs failed to converge (status=1):\n",
      "STOP: TOTAL NO. of ITERATIONS REACHED LIMIT.\n",
      "\n",
      "Increase the number of iterations (max_iter) or scale the data as shown in:\n",
      "    https://scikit-learn.org/stable/modules/preprocessing.html\n",
      "Please also refer to the documentation for alternative solver options:\n",
      "    https://scikit-learn.org/stable/modules/linear_model.html#logistic-regression\n",
      "  n_iter_i = _check_optimize_result(\n"
     ]
    }
   ],
   "source": [
    "# Step 1: Import necessary libraries\n",
    "import pandas as pd\n",
    "import numpy as np\n",
    "from sklearn.linear_model import LogisticRegression\n",
    "from sklearn.model_selection import train_test_split\n",
    "from sklearn.metrics import accuracy_score\n",
    "\n",
    "# Step 2: Load the data\n",
    "X_train = pd.read_csv(\"X_train.csv\")\n",
    "y_train = pd.read_csv(\"y_train.csv\")\n",
    "\n",
    "# Step 3: Preprocess the data\n",
    "X_train = X_train / 255.0  # normalize pixel values\n",
    "X_train, X_val, y_train, y_val = train_test_split(X_train, y_train, test_size=0.2, random_state=42)\n",
    "\n",
    "# Step 4: Define the machine learning model\n",
    "model = LogisticRegression(random_state=42)\n",
    "\n",
    "# Step 5: Train the machine learning model\n",
    "model.fit(X_train, y_train.values.ravel())\n",
    "\n",
    "# Step 6: Evaluate the machine learning model\n",
    "y_pred_val = model.predict(X_val)\n",
    "accuracy_val = accuracy_score(y_val, y_pred_val)\n",
    "print(f\"Accuracy on validation set: {accuracy_val*100:.2f}%\")\n",
    "\n",
    "# Step 7: Make predictions on the test data\n",
    "X_test = pd.read_csv"
   ]
  },
  {
   "cell_type": "code",
   "execution_count": 35,
   "id": "26e3a000",
   "metadata": {},
   "outputs": [],
   "source": [
    "# 2. (2 points) Split the data into a train and a test set with appropriate test size.\n",
    "\n",
    "# 导入pandas库和sklearn库中的train_test_split函数\n",
    "# Import the pandas library and the train_test_split function from the sklearn library.\n",
    "import pandas as pd\n",
    "from sklearn.model_selection import train_test_split\n",
    "\n",
    "# 通过pandas库的read_csv函数读取名为\"lasso_data.csv\"的数据集，并将其存储为名为df的数据框。\n",
    "# Use the read_csv function from the pandas library to read the dataset \"lasso_data.csv\" and store it as a dataframe named df.\n",
    "df = pd.read_csv(\"lasso_data.csv\")\n",
    "\n",
    "# 从数据框df中获取独立变量（自变量）X和因变量（标签）y。X是df中除最后一列之外的所有列，而y是df中最后一列。\n",
    "# Get the independent variables (features) X and the dependent variable (label) y from the dataframe df. X is all columns in df except the last one, and y is the last column in df.\n",
    "X = df.iloc[:, :-1]\n",
    "y = df.iloc[:, -1]\n",
    "\n",
    "# 使用train_test_split函数将X和y数据集拆分为训练集和测试集。参数test_size=0.2表示将20%的数据分配到测试集中，而random_state=42表示将随机种子设为42以确保结果的可重复性。拆分后的数据存储在X_train、X_test、y_train和y_test四个变量中。\n",
    "# Use the train_test_split function to split the X and y datasets into training and testing sets. The parameter test_size=0.2 means that 20% of the data will be assigned to the testing set, while random_state=42 means that the random seed is set to 42 to ensure the reproducibility of the results. The split data is stored in four variables named X_train, X_test, y_train, and y_test.\n",
    "X_train, X_test, y_train, y_test = train_test_split(X, y, test_size=0.2, random_state=42)"
   ]
  },
  {
   "cell_type": "code",
   "execution_count": 32,
   "id": "807bd388",
   "metadata": {},
   "outputs": [
    {
     "name": "stdout",
     "output_type": "stream",
     "text": [
      "Linear Regression Mean Squared Error: 1.003028082406663\n",
      "Lasso Regression Mean Squared Error: 1.0064068476712646\n",
      "Linear Regression Coefficients:  [ 3.01013707e+00  1.00222946e+00 -2.25319940e-04  1.00222946e+00\n",
      " -2.00117801e+00  1.48623551e-03]\n",
      "Lasso Regression Coefficients:  [ 2.96064005e+00  1.99202716e+00 -9.37475558e-05  9.11652548e-07\n",
      " -1.99919828e+00  0.00000000e+00]\n"
     ]
    }
   ],
   "source": [
    "import pandas as pd\n",
    "df = pd.read_csv(\"lasso_data.csv\")\n",
    "\n",
    "from sklearn.model_selection import train_test_split\n",
    "\n",
    "X = df.iloc[:, :-1]\n",
    "y = df.iloc[:, -1]\n",
    "\n",
    "X_train, X_test, y_train, y_test = train_test_split(X, y, test_size=0.2, random_state=45)\n",
    "\n",
    "from sklearn.linear_model import LinearRegression\n",
    "from sklearn.metrics import mean_squared_error\n",
    "\n",
    "lin_reg = LinearRegression()\n",
    "lin_reg.fit(X_train, y_train)\n",
    "y_pred = lin_reg.predict(X_test)\n",
    "mse = mean_squared_error(y_test, y_pred)\n",
    "print(\"Linear Regression Mean Squared Error:\", mse)\n",
    "\n",
    "from sklearn.linear_model import LassoCV\n",
    "\n",
    "lasso = LassoCV(cv=5, random_state=42).fit(X_train, y_train)\n",
    "y_pred_lasso = lasso.predict(X_test)\n",
    "mse_lasso = mean_squared_error(y_test, y_pred_lasso)\n",
    "print(\"Lasso Regression Mean Squared Error:\", mse_lasso)\n",
    "\n",
    "print(\"Linear Regression Coefficients: \", lin_reg.coef_)\n",
    "print(\"Lasso Regression Coefficients: \", lasso.coef_)"
   ]
  },
  {
   "cell_type": "code",
   "execution_count": 23,
   "id": "3a6c2f71",
   "metadata": {},
   "outputs": [
    {
     "name": "stdout",
     "output_type": "stream",
     "text": [
      "Linear Regression MSE: 1.00\n",
      "Lasso Regression (alpha=0.01) MSE: 1.01\n",
      "Lasso Regression (alpha=0.1) MSE: 1.02\n",
      "Lasso Regression (alpha=1) MSE: 2.29\n",
      "Lasso Regression (alpha=10) MSE: 29.32\n"
     ]
    },
    {
     "data": {
      "image/png": "[encoded data removed]",
      "text/plain": [
       "<Figure size 432x288 with 1 Axes>"
      ]
     },
     "metadata": {
      "needs_background": "light"
     },
     "output_type": "display_data"
    }
   ],
   "source": [
    "import pandas as pd\n",
    "import numpy as np\n",
    "import matplotlib.pyplot as plt\n",
    "from sklearn.linear_model import LinearRegression, Lasso\n",
    "from sklearn.metrics import mean_squared_error\n",
    "from sklearn.model_selection import train_test_split\n",
    "\n",
    "df = pd.read_csv('lasso_data.csv')\n",
    "\n",
    "X_train, X_test, y_train, y_test = train_test_split(df.iloc[:,:-1], df.iloc[:,-1], test_size=0.2, random_state=42)\n",
    "\n",
    "lr_model = LinearRegression().fit(X_train, y_train)\n",
    "\n",
    "y_pred = lr_model.predict(X_test)\n",
    "mse_lr = mean_squared_error(y_test, y_pred)\n",
    "print(f\"Linear Regression MSE: {mse_lr:.2f}\")\n",
    "\n",
    "alphas = [0.01, 0.1, 1, 10]\n",
    "lasso_models = []\n",
    "\n",
    "for alpha in alphas:\n",
    "    lasso_model = Lasso(alpha=alpha).fit(X_train, y_train)\n",
    "    lasso_models.append(lasso_model)\n",
    "\n",
    "mse_lasso = []\n",
    "\n",
    "for i in range(len(alphas)):\n",
    "    y_pred = lasso_models[i].predict(X_test)\n",
    "    mse = mean_squared_error(y_test, y_pred)\n",
    "    mse_lasso.append(mse)\n",
    "    print(f\"Lasso Regression (alpha={alphas[i]}) MSE: {mse:.2f}\")\n",
    "\n",
    "plt.plot(alphas, mse_lasso, label=\"Lasso Regression\")\n",
    "plt.axhline(y=mse_lr, color='r', linestyle='-', label=\"Linear Regression\")\n",
    "plt.xscale('log')\n",
    "plt.xlabel('Alpha')\n",
    "plt.ylabel('Mean Squared Error')\n",
    "plt.title('Comparison of Linear and Lasso Regression')\n",
    "plt.legend()\n",
    "plt.show()    \n",
    "    "
   ]
  },
  {
   "cell_type": "code",
   "execution_count": null,
   "id": "bb31d7b8",
   "metadata": {},
   "outputs": [],
   "source": []
  }
 ],
 "metadata": {
  "kernelspec": {
   "display_name": "Python 3 (ipykernel)",
   "language": "python",
   "name": "python3"
  },
  "language_info": {
   "codemirror_mode": {
    "name": "ipython",
    "version": 3
   },
   "file_extension": ".py",
   "mimetype": "text/x-python",
   "name": "python",
   "nbconvert_exporter": "python",
   "pygments_lexer": "ipython3",
   "version": "3.9.12"
  }
 },
 "nbformat": 4,
 "nbformat_minor": 5
}
