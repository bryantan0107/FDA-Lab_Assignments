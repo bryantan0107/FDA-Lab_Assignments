{
 "cells": [
  {
   "cell_type": "markdown",
   "metadata": {},
   "source": [
    "# Task 1 - Apriori Algorithm for Recommender System (33 points)\n",
    "\n",
    "**Task Definition:** In this programming assignment, you are required to implement the Apriori algorithm and apply it to mine frequent itemsets for recommendation. You are required to implement the algorithm from scratch by using only native Python libraries and NumPy. For efficiency you will need to convert the items to ids and sort them.\n",
    "\n",
    "**Input:** The provided input file (`video_games.txt`) contains the favourite video games of 4096 users. Each line in the file corresponds to a user and represents a list of video games the user likes. An example:\n",
    "\n",
    "*Torchlight 2;Transistor*\n",
    "\n",
    "In the example above, the corresponding user likes the video games \"Torchlight 2\" and \"Transistor\".\n",
    "\n",
    "**Output:** You need to implement the Apriori algorithm and use it to mine frequent itemsets. Set the relative minimum support to 0.055 and run the algorithm on the 4096 lists of video games. In other words, you need to extract all the itemsets that have an absolute support larger or equal to 226."
   ]
  },
  {
   "cell_type": "code",
   "execution_count": 530,
   "metadata": {},
   "outputs": [],
   "source": [
    "# TODO: uncomment the packages you used, please do not import additional non-native packages\n",
    "# You may change the imports to the following format: from [package] import [class, method, etc.]\n",
    "\n",
    "from collections import Counter\n",
    "import itertools\n",
    "import numpy as np"
   ]
  },
  {
   "cell_type": "markdown",
   "metadata": {},
   "source": [
    "## 1.1 Loading the data and preprocessing (3 points)\n",
    "**Task:** Solve the tasks explained in the TODOs and comments."
   ]
  },
  {
   "cell_type": "code",
   "execution_count": 531,
   "metadata": {},
   "outputs": [],
   "source": [
    "# TODO: read the data from the input file /data/video_games.txt (1 points)\n",
    "with open('data/video_games.txt', \"r\") as file:\n",
    "    data = file.readlines()"
   ]
  },
  {
   "cell_type": "code",
   "execution_count": 532,
   "metadata": {},
   "outputs": [],
   "source": [
    "# TODO: determine the unique items and create a dictionary that maps an item to its id using enumerate (1 points)\n",
    "unique_items = []\n",
    "for line in data:\n",
    "    items = line.strip().split(';')\n",
    "    unique_items.extend(items)\n",
    "\n",
    "unique_items = sorted(set(unique_items))\n",
    "\n",
    "item_to_id = {item: id for id, item in enumerate(unique_items)}\n",
    "id_to_item = {id: item for id, item in enumerate(unique_items)}"
   ]
  },
  {
   "cell_type": "code",
   "execution_count": 533,
   "metadata": {
    "pycharm": {
     "is_executing": true
    }
   },
   "outputs": [],
   "source": [
    "# TODO: map the items of the records to ids and sort each record (1 points)\n",
    "mapped_records = []\n",
    "for line in data:\n",
    "    items = line.strip().split(';')\n",
    "    mapped_items = [item_to_id[item] for item in items]\n",
    "    mapped_items.sort()\n",
    "    mapped_records.append(mapped_items)\n",
    "# In the following tasks use the mapped records to compute the frequent itemsets."
   ]
  },
  {
   "cell_type": "markdown",
   "metadata": {},
   "source": [
    "## 1.2 Apriori algorithm (21 points)\n",
    "### A) Determine the frequent 1 itemsets (3 points)\n",
    "**Task:** Solve the tasks explained in the TODOs and comments."
   ]
  },
  {
   "cell_type": "code",
   "execution_count": 534,
   "metadata": {},
   "outputs": [],
   "source": [
    "# TODO: calculate the support of length-1 itemsets using Counter or defaultdict (1 points)\n",
    "l1_items = Counter(item for record in mapped_records for item in record)"
   ]
  },
  {
   "cell_type": "code",
   "execution_count": 535,
   "metadata": {
    "pycharm": {
     "is_executing": true
    }
   },
   "outputs": [],
   "source": [
    "# TODO: filter out the frequent length-1 itemsets with their support (1 point)\n",
    "frequent_l1_items = {item: support for item, support in l1_items.items() if support >= 226}\n",
    "\n",
    "# TODO: save the length-1 frequent items to frequent_items with their support (1 points)\n",
    "# Hint: Convert the itemsets to tuples or sets so that you can use them as keys in a dictionary.\n",
    "frequent_items = {frozenset([item]): support for item, support in frequent_l1_items.items()}"
   ]
  },
  {
   "cell_type": "markdown",
   "metadata": {},
   "source": [
    "### B) Determine the frequent n itemsets (15 points)\n",
    "**Task:** Solve the tasks explained in the TODOs and comments.\n"
   ]
  },
  {
   "cell_type": "code",
   "execution_count": 536,
   "metadata": {},
   "outputs": [],
   "source": [
    "def apriori_gen(itemsets):\n",
    "    pruned_candidates = []\n",
    "    for i, itemset1 in enumerate(itemsets):\n",
    "        for j, itemset2 in enumerate(itemsets[i+1:]):\n",
    "            # Join the itemsets if their first k-2 items are the same\n",
    "            if itemset1[:-1] == itemset2[:-1]:\n",
    "                # Prune the itemset by checking all subsets of length k-1\n",
    "                new_itemset = itemset1 + [itemset2[-1]]\n",
    "                subsets = [new_itemset[:i] + new_itemset[i+1:] for i in range(len(new_itemset))]\n",
    "                if all(subset in itemsets for subset in subsets):\n",
    "                    pruned_candidates.append(new_itemset)\n",
    "    return pruned_candidates"
   ]
  },
  {
   "cell_type": "code",
   "execution_count": 537,
   "metadata": {},
   "outputs": [],
   "source": [
    "# TODO: implement an algorithm to calculate the support of the given itemset (2 points)\n",
    "# You do not need to implement a Hash Tree for calculating the supports.\n",
    "def calculate_support(itemset):\n",
    "    count = 0\n",
    "    for record in mapped_records:\n",
    "        if all(item in record for item in itemset):\n",
    "            count += 1\n",
    "    return count"
   ]
  },
  {
   "cell_type": "code",
   "execution_count": 538,
   "metadata": {},
   "outputs": [],
   "source": [
    "# TODO: set the initial candidates which will be used to generate the frequent length-2 itemsets (1 point)\n",
    "candidates = [[i] for i in range(len(unique_items))]\n",
    "\n",
    "# TODO: set the correct loop condition (1 point)\n",
    "while len(candidates) > 0:\n",
    "    new_candidates = apriori_gen(candidates)\n",
    "    supports = list(map(calculate_support, new_candidates))\n",
    "\n",
    "    # TODO: filter out the frequent candidates (2 point)\n",
    "    frequent_new_candidates = [itemset for itemset, support in zip(new_candidates, supports) if support >= 226]\n",
    "\n",
    "    # TODO: add the frequent candidates to frequent_items (1 point)\n",
    "    for itemset in frequent_new_candidates:\n",
    "        frequent_items[tuple(itemset)] = calculate_support(itemset)\n",
    "\n",
    "    # replace candidates with the new ones\n",
    "    candidates = frequent_new_candidates"
   ]
  },
  {
   "cell_type": "markdown",
   "metadata": {},
   "source": [
    "### C) Save your results (3 points)\n",
    "\n",
    "**Task:** Save all the frequent itemsets along with their absolute supports into a text file named “patterns.txt” and place it in the root of your zip file. Every line corresponds to exactly one frequent itemset and should be in the following format:\n",
    "\n",
    "*support:video_game_1;video_game_2;video_game_3;...*\n",
    "\n",
    "For example, suppose an itemset (Fallout 4;Genshin Impact) has an absolute support 520, then the line corresponding to this frequent itemset in `patterns.txt` should be:\n",
    "\n",
    "*520:Fallout 4;Genshin Impact*"
   ]
  },
  {
   "cell_type": "code",
   "execution_count": 539,
   "metadata": {},
   "outputs": [],
   "source": [
    "with open(\"patterns.txt\", \"w\") as file:\n",
    "    for itemset, support in frequent_items.items():\n",
    "        itemset_str = \";\".join([id_to_item.get(item_id, \"Unknown\") for item_id in itemset])\n",
    "        line = f\"{support}:{itemset_str}\\n\"\n",
    "        file.write(line)"
   ]
  },
  {
   "cell_type": "markdown",
   "metadata": {},
   "source": [
    "## 1.3 Recommendation (9 points)\n",
    "\n",
    "**Task:** Imagine you should recommend a video game to a user. You know that the user likes the video games \"Elden Ring\" and \"Scarlet Nexus\". Based on the result of the Apriori algorithm, implement an algorithm that gives a recommendation for this user by maximizing the confidence that the user will like the game. (6 points)\n",
    "\n",
    "**Report:** Explain your choice and report the confidence score for your recommendation. (3 points)\n"
   ]
  },
  {
   "cell_type": "code",
   "execution_count": 540,
   "metadata": {
    "pycharm": {
     "is_executing": true
    }
   },
   "outputs": [
    {
     "name": "stdout",
     "output_type": "stream",
     "text": [
      "Recommended game: ['Fallout 4']\n"
     ]
    }
   ],
   "source": [
    "def recommend_game(user_likes):\n",
    "    with open(\"patterns.txt\", \"r\") as file:\n",
    "        frequent_items = {}\n",
    "        for line in file:\n",
    "            support, itemset = line.strip().split(\":\", 1)\n",
    "            items = itemset.split(\";\")\n",
    "            frequent_items[tuple(items)] = int(support)\n",
    "\n",
    "    association_rules = []\n",
    "    for antecedent, support in frequent_items.items():\n",
    "        if set(user_likes).issubset(set(antecedent)):\n",
    "            confidence = frequent_items[tuple(user_likes)] / support\n",
    "            association_rules.append((antecedent, confidence))\n",
    "\n",
    "    association_rules.sort(key=lambda x: x[1], reverse=True)\n",
    "    recommended_games = [game for game in association_rules[0][0] if game not in user_likes]\n",
    "    recommended_game = recommended_games\n",
    "\n",
    "    return recommended_game\n",
    "\n",
    "# Example usage\n",
    "user_likes = [\"Elden Ring\",\"Scarlet Nexus\"]\n",
    "recommended_game = recommend_game(user_likes)\n",
    "print(f\"Recommended game: {recommended_game}\")"
   ]
  },
  {
   "cell_type": "markdown",
   "metadata": {},
   "source": [
    "External sources:\n",
    "\n",
    "1. https://towardsdatascience.com/apriori-association-rule-mining-explanation-and-python-implementation-290b42afdfc6\n",
    "2. https://chat.openai.com\n",
    "3. https://www.simplilearn.com/tutorials/python-tutorial/enumerate-in-python#:~:text=Enumerate%20is%20a%20built%2Din,iterating%20over%20the%20iterable%20object.\n",
    "4. https://github.com/nalinaksh/Association-Rule-Mining-Python/blob/master/apriori.py"
   ]
  },
  {
   "cell_type": "code",
   "execution_count": null,
   "metadata": {},
   "outputs": [],
   "source": []
  }
 ],
 "metadata": {
  "kernelspec": {
   "display_name": "Python 3 (ipykernel)",
   "language": "python",
   "name": "python3"
  },
  "language_info": {
   "codemirror_mode": {
    "name": "ipython",
    "version": 3
   },
   "file_extension": ".py",
   "mimetype": "text/x-python",
   "name": "python",
   "nbconvert_exporter": "python",
   "pygments_lexer": "ipython3",
   "version": "3.9.7"
  }
 },
 "nbformat": 4,
 "nbformat_minor": 1
}
